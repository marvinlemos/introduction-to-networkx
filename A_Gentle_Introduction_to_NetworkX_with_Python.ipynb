{
  "nbformat": 4,
  "nbformat_minor": 5,
  "metadata": {
    "kernelspec": {
      "display_name": "Python 3",
      "language": "python",
      "name": "python3"
    },
    "language_info": {
      "codemirror_mode": {
        "name": "ipython",
        "version": 3
      },
      "file_extension": ".py",
      "mimetype": "text/x-python",
      "name": "python",
      "nbconvert_exporter": "python",
      "pygments_lexer": "ipython3",
      "version": "3.8.10"
    },
    "colab": {
      "name": "A Gentle Introduction to NetworkX with Python",
      "provenance": [],
      "collapsed_sections": [],
      "include_colab_link": true
    }
  },
  "cells": [
    {
      "cell_type": "markdown",
      "metadata": {
        "id": "view-in-github",
        "colab_type": "text"
      },
      "source": [
        "<a href=\"https://colab.research.google.com/github/marvinlemos/introduction-to-networkx/blob/master/A_Gentle_Introduction_to_NetworkX_with_Python.ipynb\" target=\"_parent\"><img src=\"https://colab.research.google.com/assets/colab-badge.svg\" alt=\"Open In Colab\"/></a>"
      ]
    },
    {
      "cell_type": "code",
      "metadata": {
        "id": "278c1ba7"
      },
      "source": [
        "import networkx as nx"
      ],
      "id": "278c1ba7",
      "execution_count": null,
      "outputs": []
    },
    {
      "cell_type": "markdown",
      "metadata": {
        "id": "7a189224"
      },
      "source": [
        "## 1. Create an empty graph"
      ],
      "id": "7a189224"
    },
    {
      "cell_type": "markdown",
      "metadata": {
        "id": "58994163"
      },
      "source": [
        "To create an empty Graph, we use the following command:"
      ],
      "id": "58994163"
    },
    {
      "cell_type": "code",
      "metadata": {
        "id": "924f0408"
      },
      "source": [
        "G = nx.Graph()"
      ],
      "id": "924f0408",
      "execution_count": null,
      "outputs": []
    },
    {
      "cell_type": "code",
      "metadata": {
        "colab": {
          "base_uri": "https://localhost:8080/"
        },
        "id": "2c0c33dc",
        "outputId": "f09a1c8b-8361-4736-b8d7-cbd7d68e9d92"
      },
      "source": [
        "print(G.nodes())\n",
        "print(G.edges())"
      ],
      "id": "2c0c33dc",
      "execution_count": null,
      "outputs": [
        {
          "output_type": "stream",
          "text": [
            "[]\n",
            "[]\n"
          ],
          "name": "stdout"
        }
      ]
    },
    {
      "cell_type": "code",
      "metadata": {
        "colab": {
          "base_uri": "https://localhost:8080/"
        },
        "id": "lj760FcGw1Vo",
        "outputId": "5534e7df-c63d-42ac-c82e-c13937976033"
      },
      "source": [
        "G2 = nx.Graph([(1, 2, {'color': 'yellow'})])\n",
        "G2.nodes"
      ],
      "id": "lj760FcGw1Vo",
      "execution_count": null,
      "outputs": [
        {
          "output_type": "execute_result",
          "data": {
            "text/plain": [
              "NodeView((1, 2))"
            ]
          },
          "metadata": {
            "tags": []
          },
          "execution_count": 25
        }
      ]
    },
    {
      "cell_type": "code",
      "metadata": {
        "colab": {
          "base_uri": "https://localhost:8080/"
        },
        "id": "XweeYtmoxE90",
        "outputId": "840e2b0b-1e21-408b-8a04-5bc82fe52c13"
      },
      "source": [
        "G2.adj[2]"
      ],
      "id": "XweeYtmoxE90",
      "execution_count": null,
      "outputs": [
        {
          "output_type": "execute_result",
          "data": {
            "text/plain": [
              "AtlasView({1: {'color': 'yellow'}})"
            ]
          },
          "metadata": {
            "tags": []
          },
          "execution_count": 27
        }
      ]
    },
    {
      "cell_type": "markdown",
      "metadata": {
        "id": "3ba8c9e5"
      },
      "source": [
        "## 2. Adding nodes\n",
        "\n",
        "We can add a node in G as follows:"
      ],
      "id": "3ba8c9e5"
    },
    {
      "cell_type": "code",
      "metadata": {
        "id": "50598eae"
      },
      "source": [
        "G.add_node('A')"
      ],
      "id": "50598eae",
      "execution_count": null,
      "outputs": []
    },
    {
      "cell_type": "code",
      "metadata": {
        "id": "3aa31123"
      },
      "source": [
        "G.add_nodes_from(['B', 'C', 'D'])"
      ],
      "id": "3aa31123",
      "execution_count": null,
      "outputs": []
    },
    {
      "cell_type": "markdown",
      "metadata": {
        "id": "XXQNHniaBZOQ"
      },
      "source": [
        "We can also add nodes along with node attributes if your container yields 2-tuples of the form ***(node, node_attribute_dict)***:"
      ],
      "id": "XXQNHniaBZOQ"
    },
    {
      "cell_type": "code",
      "metadata": {
        "id": "9uIyg0WcBW7x"
      },
      "source": [
        "G.add_nodes_from([\n",
        "              ('E', {'color': 'green'})  \n",
        "])"
      ],
      "id": "9uIyg0WcBW7x",
      "execution_count": null,
      "outputs": []
    },
    {
      "cell_type": "markdown",
      "metadata": {
        "id": "a92f04fc"
      },
      "source": [
        "## 3. Adding Edges"
      ],
      "id": "a92f04fc"
    },
    {
      "cell_type": "code",
      "metadata": {
        "id": "6cc896dc"
      },
      "source": [
        "G.add_edge(*('A', 'B'))"
      ],
      "id": "6cc896dc",
      "execution_count": null,
      "outputs": []
    },
    {
      "cell_type": "code",
      "metadata": {
        "id": "3fa02575"
      },
      "source": [
        "G.add_edge('B', 'C')"
      ],
      "id": "3fa02575",
      "execution_count": null,
      "outputs": []
    },
    {
      "cell_type": "code",
      "metadata": {
        "id": "84ccff60"
      },
      "source": [
        "edge1 = ('A','D')"
      ],
      "id": "84ccff60",
      "execution_count": null,
      "outputs": []
    },
    {
      "cell_type": "code",
      "metadata": {
        "id": "aAV6QUNnAmmV"
      },
      "source": [
        "G.add_edge(*edge1)"
      ],
      "id": "aAV6QUNnAmmV",
      "execution_count": null,
      "outputs": []
    },
    {
      "cell_type": "code",
      "metadata": {
        "id": "5tq_g71aAurX"
      },
      "source": [
        "G.add_edges_from([\n",
        "                  ('B', 'D'),\n",
        "                  ('C', 'A')\n",
        "                  ])"
      ],
      "id": "5tq_g71aAurX",
      "execution_count": null,
      "outputs": []
    },
    {
      "cell_type": "code",
      "metadata": {
        "colab": {
          "base_uri": "https://localhost:8080/"
        },
        "id": "fAiX_tdPCda2",
        "outputId": "93e3fec0-2ed2-4cad-d7ea-6a3e47f36fc2"
      },
      "source": [
        "print(G.number_of_edges())\n",
        "print(G.number_of_nodes())"
      ],
      "id": "fAiX_tdPCda2",
      "execution_count": null,
      "outputs": [
        {
          "output_type": "stream",
          "text": [
            "5\n",
            "5\n"
          ],
          "name": "stdout"
        }
      ]
    },
    {
      "cell_type": "code",
      "metadata": {
        "id": "0GGEOpFxCv_C",
        "colab": {
          "base_uri": "https://localhost:8080/"
        },
        "outputId": "1dd6dc7b-2805-4171-f370-24005ceaab22"
      },
      "source": [
        "G.nodes"
      ],
      "id": "0GGEOpFxCv_C",
      "execution_count": null,
      "outputs": [
        {
          "output_type": "execute_result",
          "data": {
            "text/plain": [
              "NodeView(('A', 'B', 'C', 'D', 'E'))"
            ]
          },
          "metadata": {
            "tags": []
          },
          "execution_count": 14
        }
      ]
    },
    {
      "cell_type": "code",
      "metadata": {
        "colab": {
          "base_uri": "https://localhost:8080/"
        },
        "id": "Al5ZUYybulZf",
        "outputId": "40030ca5-bad7-4167-a181-5d881f675aa0"
      },
      "source": [
        "list(G.nodes)"
      ],
      "id": "Al5ZUYybulZf",
      "execution_count": null,
      "outputs": [
        {
          "output_type": "execute_result",
          "data": {
            "text/plain": [
              "['A', 'B', 'C', 'D', 'E']"
            ]
          },
          "metadata": {
            "tags": []
          },
          "execution_count": 15
        }
      ]
    },
    {
      "cell_type": "code",
      "metadata": {
        "colab": {
          "base_uri": "https://localhost:8080/"
        },
        "id": "gCoKG4UGuwRI",
        "outputId": "eae895e8-b6fb-4d1e-dd48-245614b5bcef"
      },
      "source": [
        "G.edges"
      ],
      "id": "gCoKG4UGuwRI",
      "execution_count": null,
      "outputs": [
        {
          "output_type": "execute_result",
          "data": {
            "text/plain": [
              "EdgeView([('A', 'B'), ('A', 'D'), ('A', 'C'), ('B', 'C'), ('B', 'D')])"
            ]
          },
          "metadata": {
            "tags": []
          },
          "execution_count": 16
        }
      ]
    },
    {
      "cell_type": "code",
      "metadata": {
        "colab": {
          "base_uri": "https://localhost:8080/"
        },
        "id": "1HuSrv0iu3x6",
        "outputId": "2ef5e71e-659b-46fa-ac6d-b200fc73a5f1"
      },
      "source": [
        "list(G.adj['A'])"
      ],
      "id": "1HuSrv0iu3x6",
      "execution_count": null,
      "outputs": [
        {
          "output_type": "execute_result",
          "data": {
            "text/plain": [
              "['B', 'D', 'C']"
            ]
          },
          "metadata": {
            "tags": []
          },
          "execution_count": 19
        }
      ]
    },
    {
      "cell_type": "code",
      "metadata": {
        "colab": {
          "base_uri": "https://localhost:8080/"
        },
        "id": "PiPHjLrxu8_v",
        "outputId": "d631e2e7-1039-4258-e14d-f8e9d6b60f13"
      },
      "source": [
        "G['A'] #G.adj['A']"
      ],
      "id": "PiPHjLrxu8_v",
      "execution_count": null,
      "outputs": [
        {
          "output_type": "execute_result",
          "data": {
            "text/plain": [
              "AtlasView({'B': {}, 'D': {}, 'C': {}})"
            ]
          },
          "metadata": {
            "tags": []
          },
          "execution_count": 36
        }
      ]
    },
    {
      "cell_type": "code",
      "metadata": {
        "colab": {
          "base_uri": "https://localhost:8080/"
        },
        "id": "bRdO6hJKxq6_",
        "outputId": "e34f1754-f7d3-48c5-ec2b-c8ed61299bfb"
      },
      "source": [
        "G['A']['B']"
      ],
      "id": "bRdO6hJKxq6_",
      "execution_count": null,
      "outputs": [
        {
          "output_type": "execute_result",
          "data": {
            "text/plain": [
              "{}"
            ]
          },
          "metadata": {
            "tags": []
          },
          "execution_count": 37
        }
      ]
    },
    {
      "cell_type": "code",
      "metadata": {
        "id": "zMADdpz8yQMI"
      },
      "source": [
        "G['A']['B']['color'] = 'blue'"
      ],
      "id": "zMADdpz8yQMI",
      "execution_count": null,
      "outputs": []
    },
    {
      "cell_type": "code",
      "metadata": {
        "colab": {
          "base_uri": "https://localhost:8080/"
        },
        "id": "eTdONP5xyUZn",
        "outputId": "c5689c8c-8aa5-48de-b927-724c095d00c0"
      },
      "source": [
        "G['A']"
      ],
      "id": "eTdONP5xyUZn",
      "execution_count": null,
      "outputs": [
        {
          "output_type": "execute_result",
          "data": {
            "text/plain": [
              "AtlasView({'B': {'color': 'blue'}, 'D': {}, 'C': {}})"
            ]
          },
          "metadata": {
            "tags": []
          },
          "execution_count": 39
        }
      ]
    },
    {
      "cell_type": "markdown",
      "metadata": {
        "id": "5vRp8Ukzy32S"
      },
      "source": [
        "## Weighted Graphs"
      ],
      "id": "5vRp8Ukzy32S"
    },
    {
      "cell_type": "code",
      "metadata": {
        "id": "_TJjhrcYy54F"
      },
      "source": [
        "FG = nx.Graph()\n",
        "FG.add_weighted_edges_from([(1, 2, 0.125), (1, 3, 0.75), (2, 4, 1.2), (3, 4, 0.375)])"
      ],
      "id": "_TJjhrcYy54F",
      "execution_count": null,
      "outputs": []
    },
    {
      "cell_type": "code",
      "metadata": {
        "colab": {
          "base_uri": "https://localhost:8080/"
        },
        "id": "H_T6y3azzEit",
        "outputId": "117fd4ec-150c-4f61-977c-caecdea8e64f"
      },
      "source": [
        "FG.edges.data('weight')"
      ],
      "id": "H_T6y3azzEit",
      "execution_count": null,
      "outputs": [
        {
          "output_type": "execute_result",
          "data": {
            "text/plain": [
              "EdgeDataView([(1, 2, 0.125), (1, 3, 0.75), (2, 4, 1.2), (3, 4, 0.375)])"
            ]
          },
          "metadata": {
            "tags": []
          },
          "execution_count": 44
        }
      ]
    },
    {
      "cell_type": "code",
      "metadata": {
        "colab": {
          "base_uri": "https://localhost:8080/"
        },
        "id": "cgjgFvkuzHHN",
        "outputId": "faac902e-7c26-4795-a990-8440f2901d30"
      },
      "source": [
        "for (u, v, wt) in FG.edges.data('weight'):\n",
        "  if wt < 0.5:\n",
        "    print(f\"({u}, {v}, {wt:.3})\")"
      ],
      "id": "cgjgFvkuzHHN",
      "execution_count": null,
      "outputs": [
        {
          "output_type": "stream",
          "text": [
            "(1, 2, 0.125)\n",
            "(3, 4, 0.375)\n"
          ],
          "name": "stdout"
        }
      ]
    },
    {
      "cell_type": "markdown",
      "metadata": {
        "id": "e-YA1knazqHo"
      },
      "source": [
        "## Graph Attributes"
      ],
      "id": "e-YA1knazqHo"
    },
    {
      "cell_type": "code",
      "metadata": {
        "id": "BAq4Jz4WzuB0"
      },
      "source": [
        "G = nx.Graph(name='Ceara')"
      ],
      "id": "BAq4Jz4WzuB0",
      "execution_count": null,
      "outputs": []
    },
    {
      "cell_type": "code",
      "metadata": {
        "colab": {
          "base_uri": "https://localhost:8080/"
        },
        "id": "je9YYWfKz3Nc",
        "outputId": "e9df2fd8-e285-4669-bfdf-873770334c0c"
      },
      "source": [
        "G.graph"
      ],
      "id": "je9YYWfKz3Nc",
      "execution_count": null,
      "outputs": [
        {
          "output_type": "execute_result",
          "data": {
            "text/plain": [
              "{'name': 'Ceara'}"
            ]
          },
          "metadata": {
            "tags": []
          },
          "execution_count": 52
        }
      ]
    },
    {
      "cell_type": "code",
      "metadata": {
        "colab": {
          "base_uri": "https://localhost:8080/"
        },
        "id": "dVMk53ouz38E",
        "outputId": "325aaf31-c870-49a1-876d-e73938d2700f"
      },
      "source": [
        "G.graph['name'] = 'Piaui'\n",
        "G.graph"
      ],
      "id": "dVMk53ouz38E",
      "execution_count": null,
      "outputs": [
        {
          "output_type": "execute_result",
          "data": {
            "text/plain": [
              "{'name': 'Piaui'}"
            ]
          },
          "metadata": {
            "tags": []
          },
          "execution_count": 53
        }
      ]
    },
    {
      "cell_type": "code",
      "metadata": {
        "id": "29c8eQgv0A4N"
      },
      "source": [
        "G.add_node(1, name='Teresina')\n",
        "G.add_node(2, name='Altos')"
      ],
      "id": "29c8eQgv0A4N",
      "execution_count": null,
      "outputs": []
    },
    {
      "cell_type": "code",
      "metadata": {
        "colab": {
          "base_uri": "https://localhost:8080/"
        },
        "id": "a0tfqoiy0IB9",
        "outputId": "8217bf77-49a8-4992-da84-0ac4c17decd7"
      },
      "source": [
        "G.nodes"
      ],
      "id": "a0tfqoiy0IB9",
      "execution_count": null,
      "outputs": [
        {
          "output_type": "execute_result",
          "data": {
            "text/plain": [
              "NodeView((1, 2))"
            ]
          },
          "metadata": {
            "tags": []
          },
          "execution_count": 57
        }
      ]
    },
    {
      "cell_type": "code",
      "metadata": {
        "colab": {
          "base_uri": "https://localhost:8080/"
        },
        "id": "h8LPCpa10I71",
        "outputId": "a6d16d9a-5ab5-4242-f1af-9474e4b5b0ee"
      },
      "source": [
        "G.nodes[1]"
      ],
      "id": "h8LPCpa10I71",
      "execution_count": null,
      "outputs": [
        {
          "output_type": "execute_result",
          "data": {
            "text/plain": [
              "{'name': 'Teresina'}"
            ]
          },
          "metadata": {
            "tags": []
          },
          "execution_count": 59
        }
      ]
    },
    {
      "cell_type": "markdown",
      "metadata": {
        "id": "QJ7bGWCb0pVp"
      },
      "source": [
        "## Drawing Graphs"
      ],
      "id": "QJ7bGWCb0pVp"
    },
    {
      "cell_type": "code",
      "metadata": {
        "id": "IYzMs_V-0rpD"
      },
      "source": [
        ""
      ],
      "id": "IYzMs_V-0rpD",
      "execution_count": null,
      "outputs": []
    }
  ]
}