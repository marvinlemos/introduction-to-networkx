{
  "nbformat": 4,
  "nbformat_minor": 5,
  "metadata": {
    "kernelspec": {
      "display_name": "Python 3",
      "language": "python",
      "name": "python3"
    },
    "language_info": {
      "codemirror_mode": {
        "name": "ipython",
        "version": 3
      },
      "file_extension": ".py",
      "mimetype": "text/x-python",
      "name": "python",
      "nbconvert_exporter": "python",
      "pygments_lexer": "ipython3",
      "version": "3.8.10"
    },
    "colab": {
      "name": "A Gentle Introduction to NetworkX with Python",
      "provenance": [],
      "include_colab_link": true
    }
  },
  "cells": [
    {
      "cell_type": "markdown",
      "metadata": {
        "id": "view-in-github",
        "colab_type": "text"
      },
      "source": [
        "<a href=\"https://colab.research.google.com/github/marvinlemos/introduction-to-networkx/blob/master/A_Gentle_Introduction_to_NetworkX_with_Python.ipynb\" target=\"_parent\"><img src=\"https://colab.research.google.com/assets/colab-badge.svg\" alt=\"Open In Colab\"/></a>"
      ]
    },
    {
      "cell_type": "code",
      "metadata": {
        "id": "278c1ba7"
      },
      "source": [
        "import networkx as nx"
      ],
      "id": "278c1ba7",
      "execution_count": 1,
      "outputs": []
    },
    {
      "cell_type": "markdown",
      "metadata": {
        "id": "7a189224"
      },
      "source": [
        "## 1. Create an empty graph"
      ],
      "id": "7a189224"
    },
    {
      "cell_type": "markdown",
      "metadata": {
        "id": "58994163"
      },
      "source": [
        "To create an empty Graph, we use the following command:"
      ],
      "id": "58994163"
    },
    {
      "cell_type": "code",
      "metadata": {
        "id": "924f0408"
      },
      "source": [
        "G = nx.Graph()"
      ],
      "id": "924f0408",
      "execution_count": 2,
      "outputs": []
    },
    {
      "cell_type": "code",
      "metadata": {
        "colab": {
          "base_uri": "https://localhost:8080/"
        },
        "id": "2c0c33dc",
        "outputId": "5771d06c-0c9f-4456-8759-89eb41d70d43"
      },
      "source": [
        "print(G.nodes())\n",
        "print(G.edges())"
      ],
      "id": "2c0c33dc",
      "execution_count": 3,
      "outputs": [
        {
          "output_type": "stream",
          "text": [
            "[]\n",
            "[]\n"
          ],
          "name": "stdout"
        }
      ]
    },
    {
      "cell_type": "markdown",
      "metadata": {
        "id": "3ba8c9e5"
      },
      "source": [
        "## 2. Adding nodes\n",
        "\n",
        "We can add a node in G as follows:"
      ],
      "id": "3ba8c9e5"
    },
    {
      "cell_type": "code",
      "metadata": {
        "id": "50598eae"
      },
      "source": [
        "G.add_node('A')"
      ],
      "id": "50598eae",
      "execution_count": 4,
      "outputs": []
    },
    {
      "cell_type": "code",
      "metadata": {
        "id": "3aa31123"
      },
      "source": [
        "G.add_nodes_from(['B', 'C', 'D'])"
      ],
      "id": "3aa31123",
      "execution_count": 5,
      "outputs": []
    },
    {
      "cell_type": "markdown",
      "metadata": {
        "id": "a92f04fc"
      },
      "source": [
        "## 3. Adding Edges"
      ],
      "id": "a92f04fc"
    },
    {
      "cell_type": "code",
      "metadata": {
        "id": "6cc896dc"
      },
      "source": [
        "G.add_edge(*('A', 'B'))"
      ],
      "id": "6cc896dc",
      "execution_count": 6,
      "outputs": []
    },
    {
      "cell_type": "code",
      "metadata": {
        "id": "3fa02575"
      },
      "source": [
        "G.add_edge('B', 'C')"
      ],
      "id": "3fa02575",
      "execution_count": 7,
      "outputs": []
    },
    {
      "cell_type": "code",
      "metadata": {
        "id": "84ccff60"
      },
      "source": [
        ""
      ],
      "id": "84ccff60",
      "execution_count": 7,
      "outputs": []
    }
  ]
}