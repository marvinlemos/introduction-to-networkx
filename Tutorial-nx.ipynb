{
 "cells": [
  {
   "cell_type": "code",
   "execution_count": null,
   "id": "31d1d717",
   "metadata": {},
   "outputs": [],
   "source": []
  },
  {
   "cell_type": "code",
   "execution_count": 2,
   "id": "278c1ba7",
   "metadata": {},
   "outputs": [],
   "source": [
    "import networkx as nx"
   ]
  },
  {
   "cell_type": "markdown",
   "id": "7a189224",
   "metadata": {},
   "source": [
    "## 1. Create an empty graph"
   ]
  },
  {
   "cell_type": "markdown",
   "id": "58994163",
   "metadata": {},
   "source": [
    "To create an empty Graph, we use the following command:"
   ]
  },
  {
   "cell_type": "code",
   "execution_count": 5,
   "id": "924f0408",
   "metadata": {},
   "outputs": [],
   "source": [
    "G = nx.Graph()"
   ]
  },
  {
   "cell_type": "code",
   "execution_count": 15,
   "id": "2c0c33dc",
   "metadata": {},
   "outputs": [
    {
     "name": "stdout",
     "output_type": "stream",
     "text": [
      "['A', 'B', 'C', 'D']\n",
      "[('A', 'B'), ('B', 'C')]\n"
     ]
    }
   ],
   "source": [
    "print(G.nodes())\n",
    "print(G.edges())"
   ]
  },
  {
   "cell_type": "markdown",
   "id": "3ba8c9e5",
   "metadata": {},
   "source": [
    "## 2. Adding nodes\n",
    "\n",
    "We can add a node in G as follows:"
   ]
  },
  {
   "cell_type": "code",
   "execution_count": 7,
   "id": "50598eae",
   "metadata": {},
   "outputs": [],
   "source": [
    "G.add_node('A')"
   ]
  },
  {
   "cell_type": "code",
   "execution_count": 10,
   "id": "3aa31123",
   "metadata": {},
   "outputs": [],
   "source": [
    "G.add_nodes_from(['B', 'C', 'D'])"
   ]
  },
  {
   "cell_type": "markdown",
   "id": "a92f04fc",
   "metadata": {},
   "source": [
    "## 3. Adding Edges"
   ]
  },
  {
   "cell_type": "code",
   "execution_count": 13,
   "id": "6cc896dc",
   "metadata": {},
   "outputs": [],
   "source": [
    "G.add_edge(*('A', 'B'))"
   ]
  },
  {
   "cell_type": "code",
   "execution_count": 14,
   "id": "3fa02575",
   "metadata": {},
   "outputs": [],
   "source": [
    "G.add_edge('B', 'C')"
   ]
  },
  {
   "cell_type": "code",
   "execution_count": null,
   "id": "84ccff60",
   "metadata": {},
   "outputs": [],
   "source": []
  }
 ],
 "metadata": {
  "kernelspec": {
   "display_name": "Python 3",
   "language": "python",
   "name": "python3"
  },
  "language_info": {
   "codemirror_mode": {
    "name": "ipython",
    "version": 3
   },
   "file_extension": ".py",
   "mimetype": "text/x-python",
   "name": "python",
   "nbconvert_exporter": "python",
   "pygments_lexer": "ipython3",
   "version": "3.8.10"
  }
 },
 "nbformat": 4,
 "nbformat_minor": 5
}
